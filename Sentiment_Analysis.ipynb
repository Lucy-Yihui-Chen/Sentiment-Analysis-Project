{
 "cells": [
  {
   "cell_type": "markdown",
   "id": "f6ed5101",
   "metadata": {},
   "source": [
    "## Step 0. Read in Data and NLTK Basics"
   ]
  }
 ],
 "metadata": {
  "language_info": {
   "name": "python"
  }
 },
 "nbformat": 4,
 "nbformat_minor": 5
}
